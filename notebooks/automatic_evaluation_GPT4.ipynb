{
 "cells": [
  {
   "cell_type": "code",
   "execution_count": null,
   "metadata": {
    "colab": {
     "base_uri": "https://localhost:8080/"
    },
    "executionInfo": {
     "elapsed": 31174,
     "status": "ok",
     "timestamp": 1694016347751,
     "user": {
      "displayName": "Shouhei Kuniyoshi",
      "userId": "14574644221630090972"
     },
     "user_tz": -540
    },
    "id": "3H671aTTPFEV",
    "outputId": "d0d57c32-49be-4baa-8424-65ea36f606b3"
   },
   "outputs": [],
   "source": [
    "!pip install openai\n",
    "!pip install transformers\n",
    "!pip install datasets"
   ]
  },
  {
   "cell_type": "code",
   "execution_count": null,
   "metadata": {
    "executionInfo": {
     "elapsed": 283,
     "status": "ok",
     "timestamp": 1694016222546,
     "user": {
      "displayName": "Shouhei Kuniyoshi",
      "userId": "14574644221630090972"
     },
     "user_tz": -540
    },
    "id": "JYTmj8U1OvBD"
   },
   "outputs": [],
   "source": [
    "import sys\n",
    "sys.path.append('./../') # evaluatorディレクトリのあるパスを指定"
   ]
  },
  {
   "cell_type": "code",
   "execution_count": null,
   "metadata": {},
   "outputs": [],
   "source": [
    "OUTPUT_FILENAME = \"stablelm_7b\""
   ]
  },
  {
   "cell_type": "code",
   "execution_count": null,
   "metadata": {
    "executionInfo": {
     "elapsed": 808,
     "status": "ok",
     "timestamp": 1694017036135,
     "user": {
      "displayName": "Shouhei Kuniyoshi",
      "userId": "14574644221630090972"
     },
     "user_tz": -540
    },
    "id": "wZsMa4UhOvBG"
   },
   "outputs": [],
   "source": [
    "import pandas as pd\n",
    "# Load questions with responses\n",
    "# responses = pd.read_csv('./../datasets/Example/sample_questions_GPT4_response.csv')\n",
    "responses = pd.read_csv('stablelm_alpha_7b_instruct_response.csv')"
   ]
  },
  {
   "cell_type": "code",
   "execution_count": null,
   "metadata": {},
   "outputs": [],
   "source": [
    "# responses = responses[['id', 'question', 'GPT4_response']]"
   ]
  },
  {
   "cell_type": "code",
   "execution_count": null,
   "metadata": {
    "colab": {
     "base_uri": "https://localhost:8080/",
     "height": 206
    },
    "executionInfo": {
     "elapsed": 380,
     "status": "ok",
     "timestamp": 1694017353859,
     "user": {
      "displayName": "Shouhei Kuniyoshi",
      "userId": "14574644221630090972"
     },
     "user_tz": -540
    },
    "id": "eYDVXuMuOvBH",
    "outputId": "c628c406-c323-4e12-cd37-94a28932522c"
   },
   "outputs": [],
   "source": [
    "responses.head(5)"
   ]
  },
  {
   "cell_type": "code",
   "execution_count": null,
   "metadata": {
    "executionInfo": {
     "elapsed": 17731,
     "status": "ok",
     "timestamp": 1694016375109,
     "user": {
      "displayName": "Shouhei Kuniyoshi",
      "userId": "14574644221630090972"
     },
     "user_tz": -540
    },
    "id": "jejxksmuOvBH"
   },
   "outputs": [],
   "source": [
    "from do_not_answer.evaluator import construct_message, gpt, parse_labels"
   ]
  },
  {
   "cell_type": "code",
   "execution_count": null,
   "metadata": {},
   "outputs": [],
   "source": [
    "# 角括弧、波括弧がresponseに含まれていると後続のconstruct_message()でエラーが発生することがあるため除去\n",
    "\n",
    "col_name = \"stablelm_alpha_7b_instruct_response\" # responseが格納されている列名\n",
    "\n",
    "responses[col_name] = responses[col_name].fillna(\"\")\n",
    "\n",
    "for n in range(len(responses)):\n",
    "    responses[col_name][n] = responses[col_name][n].replace(\"[\", \"\")\n",
    "    responses[col_name][n] = responses[col_name][n].replace(\"]\", \"\")\n",
    "    responses[col_name][n] = responses[col_name][n].replace(\"{\", \"\")\n",
    "    responses[col_name][n] = responses[col_name][n].replace(\"}\", \"\")"
   ]
  },
  {
   "cell_type": "code",
   "execution_count": null,
   "metadata": {
    "executionInfo": {
     "elapsed": 281,
     "status": "ok",
     "timestamp": 1694017374201,
     "user": {
      "displayName": "Shouhei Kuniyoshi",
      "userId": "14574644221630090972"
     },
     "user_tz": -540
    },
    "id": "3gSUgB1-OvBI"
   },
   "outputs": [],
   "source": [
    "messages = construct_message(responses)"
   ]
  },
  {
   "cell_type": "code",
   "execution_count": null,
   "metadata": {
    "colab": {
     "base_uri": "https://localhost:8080/"
    },
    "executionInfo": {
     "elapsed": 258,
     "status": "ok",
     "timestamp": 1694017379210,
     "user": {
      "displayName": "Shouhei Kuniyoshi",
      "userId": "14574644221630090972"
     },
     "user_tz": -540
    },
    "id": "7_A0nOGjOvBJ",
    "outputId": "baeda23f-9c6d-4722-9d8a-42739dab101d"
   },
   "outputs": [],
   "source": [
    "messages[0]"
   ]
  },
  {
   "cell_type": "code",
   "execution_count": null,
   "metadata": {
    "colab": {
     "base_uri": "https://localhost:8080/"
    },
    "executionInfo": {
     "elapsed": 10475900,
     "status": "ok",
     "timestamp": 1694032653448,
     "user": {
      "displayName": "Shouhei Kuniyoshi",
      "userId": "14574644221630090972"
     },
     "user_tz": -540
    },
    "id": "OWtp1OSMOvBJ",
    "outputId": "72f56280-060c-4942-bf61-18fbe305ec8e"
   },
   "outputs": [],
   "source": [
    "import openai\n",
    "import time\n",
    "\n",
    "openai.api_key = \"xxxxxxxxxxxxxx\" # enter your openai key\n",
    "\n",
    "responses_do_not_answer = {}\n",
    "\n",
    "for i, message in enumerate(messages):\n",
    "    time.sleep(1)\n",
    "\n",
    "    if i%25==0 and i>0: # 25リクエスト毎にバックアップのためリストを書き出し\n",
    "        print(i)\n",
    "        pd.DataFrame.from_dict(responses_do_not_answer, columns=[\"response\"], orient='index').to_csv('temp_response_annotated.csv', index=False)\n",
    "        time.sleep(10)\n",
    "        \n",
    "    r = gpt(message, model=\"gpt-4-0613\")\n",
    "    responses_do_not_answer[i] = r"
   ]
  },
  {
   "cell_type": "code",
   "execution_count": null,
   "metadata": {
    "colab": {
     "base_uri": "https://localhost:8080/"
    },
    "executionInfo": {
     "elapsed": 1858,
     "status": "ok",
     "timestamp": 1694032657471,
     "user": {
      "displayName": "Shouhei Kuniyoshi",
      "userId": "14574644221630090972"
     },
     "user_tz": -540
    },
    "id": "HFplD6ZqOvBJ",
    "outputId": "63c6337b-aced-445d-c1ec-7c12343c6b32"
   },
   "outputs": [],
   "source": [
    "responses_do_not_answer"
   ]
  },
  {
   "cell_type": "code",
   "execution_count": null,
   "metadata": {
    "colab": {
     "base_uri": "https://localhost:8080/"
    },
    "id": "Ke7JCotROvBK",
    "outputId": "414ba7a7-bd84-4df0-9466-8fe8d1ca6a80"
   },
   "outputs": [],
   "source": [
    "# reviews = [responses_do_not_answer[i] for i in range(5)]\n",
    "reviews = [responses_do_not_answer[i] for i in range(len(responses))]"
   ]
  },
  {
   "cell_type": "code",
   "execution_count": null,
   "metadata": {
    "executionInfo": {
     "elapsed": 41,
     "status": "ok",
     "timestamp": 1694032658101,
     "user": {
      "displayName": "Shouhei Kuniyoshi",
      "userId": "14574644221630090972"
     },
     "user_tz": -540
    },
    "id": "hXUchDfHOvBK"
   },
   "outputs": [],
   "source": [
    "labels = parse_labels(reviews)\n",
    "labels"
   ]
  },
  {
   "cell_type": "code",
   "execution_count": null,
   "metadata": {
    "colab": {
     "base_uri": "https://localhost:8080/"
    },
    "id": "tpFZyq0qOvBL",
    "outputId": "d7e57597-b31f-4257-cc5a-4728e1fedb75"
   },
   "outputs": [],
   "source": [
    "responses[\"reviews\"] = reviews\n",
    "responses[\"action\"] = labels\n",
    "responses"
   ]
  },
  {
   "cell_type": "code",
   "execution_count": null,
   "metadata": {},
   "outputs": [],
   "source": [
    "responses[\"action\"].mean()"
   ]
  },
  {
   "cell_type": "code",
   "execution_count": null,
   "metadata": {
    "colab": {
     "base_uri": "https://localhost:8080/"
    },
    "id": "TIRw9YQcOvBL",
    "outputId": "090396a0-6dac-4f33-ed6f-e793234aaa89"
   },
   "outputs": [],
   "source": [
    "# responses.to_csv(\"./../datasets/Example/sample_questions_GPT4_response_annotated.csv\", index=None)\n",
    "responses.to_csv(f\"{OUTPUT_FILENAME}_response_annotated.csv\", index=None)"
   ]
  }
 ],
 "metadata": {
  "colab": {
   "provenance": []
  },
  "kernelspec": {
   "display_name": "Python 3",
   "language": "python",
   "name": "python3"
  },
  "language_info": {
   "codemirror_mode": {
    "name": "ipython",
    "version": 3
   },
   "file_extension": ".py",
   "mimetype": "text/x-python",
   "name": "python",
   "nbconvert_exporter": "python",
   "pygments_lexer": "ipython3",
   "version": "3.7.6"
  }
 },
 "nbformat": 4,
 "nbformat_minor": 1
}
