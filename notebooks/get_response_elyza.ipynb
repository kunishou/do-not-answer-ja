{
 "cells": [
  {
   "cell_type": "code",
   "execution_count": null,
   "metadata": {
    "colab": {
     "base_uri": "https://localhost:8080/"
    },
    "executionInfo": {
     "elapsed": 4652,
     "status": "ok",
     "timestamp": 1694030788908,
     "user": {
      "displayName": "Shouhei Kuniyoshi",
      "userId": "14574644221630090972"
     },
     "user_tz": -540
    },
    "id": "b1120a98-2181-4eed-8843-19997680212e",
    "outputId": "cb648f56-f726-4621-e7df-3d20e99f8fac"
   },
   "outputs": [],
   "source": [
    "!pip install transformers tokenizer sentencepiece accelerate bitsandbytes einops safetensors"
   ]
  },
  {
   "cell_type": "code",
   "execution_count": null,
   "metadata": {
    "colab": {
     "base_uri": "https://localhost:8080/",
     "height": 293
    },
    "executionInfo": {
     "elapsed": 10,
     "status": "ok",
     "timestamp": 1694030794785,
     "user": {
      "displayName": "Shouhei Kuniyoshi",
      "userId": "14574644221630090972"
     },
     "user_tz": -540
    },
    "id": "85298e3f-9db4-4c14-9781-b66af133238e",
    "outputId": "5b39b99e-052f-4e65-bea0-c9c2b535bc29"
   },
   "outputs": [],
   "source": [
    "import pandas as pd\n",
    "\n",
    "df = pd.read_json(\"dna_ja_1k.json\")\n",
    "\n",
    "df.head()"
   ]
  },
  {
   "cell_type": "code",
   "execution_count": null,
   "metadata": {
    "executionInfo": {
     "elapsed": 484,
     "status": "ok",
     "timestamp": 1694030799893,
     "user": {
      "displayName": "Shouhei Kuniyoshi",
      "userId": "14574644221630090972"
     },
     "user_tz": -540
    },
    "id": "6e37e514-2956-4e81-ac9b-405b8d57082a"
   },
   "outputs": [],
   "source": [
    "OUTPUT_FILENAME = \"elyza_llama_7b_instruct\"\n",
    "MODEL_NAME = \"elyza/ELYZA-japanese-Llama-2-7b-instruct\" # 評価したいモデルによって変更"
   ]
  },
  {
   "cell_type": "code",
   "execution_count": null,
   "metadata": {
    "colab": {
     "base_uri": "https://localhost:8080/",
     "height": 49,
     "referenced_widgets": [
      "d0de50039a644b3aad62e28e8552aa23",
      "b99225fb71fe4550a1a26428b56f394e",
      "f9557ed9330e433f960aed56f4211fa4",
      "4d86b32693e94528b0c1250e3736523d",
      "6ca1e3be91624bb9a97ae5c04320faf4",
      "3e2d5d2095d44f7dabdbef82b780e733",
      "2c72a094b8fa47d59cdaec7c72c77c0a",
      "4bc81ba1fbad44c2946d10a97ad9279a",
      "d668b7c5949146068b6aedcefae3ff2f",
      "3df229f2367244c8b6105d6c28862cd2",
      "b5cc780445484bcfa477c4b4c3478e99"
     ]
    },
    "executionInfo": {
     "elapsed": 20126,
     "status": "ok",
     "timestamp": 1694030823368,
     "user": {
      "displayName": "Shouhei Kuniyoshi",
      "userId": "14574644221630090972"
     },
     "user_tz": -540
    },
    "id": "fc6c9bcc-2dd2-4825-8945-1b30b0e18b72",
    "outputId": "0e11d086-d2b5-4057-ab4a-1f01eb91a2ec"
   },
   "outputs": [],
   "source": [
    "from transformers import AutoTokenizer, AutoModelForCausalLM\n",
    "import torch\n",
    "\n",
    "tokenizer = AutoTokenizer.from_pretrained(MODEL_NAME,\n",
    "                                          use_fast=False)\n",
    "\n",
    "model = AutoModelForCausalLM.from_pretrained(MODEL_NAME,\n",
    "                                            # load_in_8bit=True,\n",
    "                                            torch_dtype=torch.float16,\n",
    "                                            device_map=\"auto\",\n",
    "                                            )"
   ]
  },
  {
   "cell_type": "code",
   "execution_count": null,
   "metadata": {
    "colab": {
     "base_uri": "https://localhost:8080/"
    },
    "executionInfo": {
     "elapsed": 13679213,
     "status": "ok",
     "timestamp": 1694044523796,
     "user": {
      "displayName": "Shouhei Kuniyoshi",
      "userId": "14574644221630090972"
     },
     "user_tz": -540
    },
    "id": "48ef89e4-db12-4a5f-9e05-cbf670c32aed",
    "outputId": "49a179a8-6829-48da-9ceb-62ce47e9c4d4"
   },
   "outputs": [],
   "source": [
    "\n",
    "generated_texts = []  # 結果を保存するリスト\n",
    "\n",
    "for n in range(len(df)):\n",
    "# for n in range(5): # test\n",
    "\n",
    "    if n%100 == 0:\n",
    "        print(n)\n",
    "\n",
    "    # elyza_llama prompt\n",
    "    prompt = f\"\"\"<s>[INST] <<SYS>>\n",
    "    あなたは誠実で優秀な日本人のアシスタントです。\n",
    "    <</SYS>>\n",
    "\n",
    "    {df.loc[n, \"question\"]} [/INST]\"\"\"\n",
    "\n",
    "    # 推論の実行\n",
    "    token_ids = tokenizer.encode(prompt, add_special_tokens=False, return_tensors=\"pt\")\n",
    "    with torch.no_grad():\n",
    "        output_ids = model.generate(\n",
    "            token_ids.to(model.device),\n",
    "            max_new_tokens=1024,\n",
    "            do_sample=True,\n",
    "            top_k=10,\n",
    "            num_return_sequences=1,\n",
    "            no_repeat_ngram_size=3,\n",
    "            pad_token_id=tokenizer.pad_token_id,\n",
    "            bos_token_id=tokenizer.bos_token_id,\n",
    "            eos_token_id=tokenizer.eos_token_id\n",
    "        )\n",
    "    output = tokenizer.decode(output_ids.tolist()[0][token_ids.size(1):])\n",
    "\n",
    "    generated_texts.append(output)"
   ]
  },
  {
   "cell_type": "code",
   "execution_count": null,
   "metadata": {
    "colab": {
     "base_uri": "https://localhost:8080/",
     "height": 299
    },
    "executionInfo": {
     "elapsed": 17,
     "status": "ok",
     "timestamp": 1694044523799,
     "user": {
      "displayName": "Shouhei Kuniyoshi",
      "userId": "14574644221630090972"
     },
     "user_tz": -540
    },
    "id": "77c96d89-204a-4702-a000-2b03124bdaa4",
    "outputId": "61cf4f40-f24e-4b91-907f-fbedf9b023a9"
   },
   "outputs": [],
   "source": [
    "df_result = pd.concat([df, pd.DataFrame(generated_texts, columns=[f\"{OUTPUT_FILENAME}_response\"])], axis=1)\n",
    "df_result.head(3)"
   ]
  },
  {
   "cell_type": "code",
   "execution_count": null,
   "metadata": {
    "executionInfo": {
     "elapsed": 15,
     "status": "ok",
     "timestamp": 1694044523801,
     "user": {
      "displayName": "Shouhei Kuniyoshi",
      "userId": "14574644221630090972"
     },
     "user_tz": -540
    },
    "id": "80a7927d-2f57-4c74-a139-7d0e4cb335e5"
   },
   "outputs": [],
   "source": [
    "df_result[[\"id\", \"question\", f\"{OUTPUT_FILENAME}_response\"]].to_csv(f\"{OUTPUT_FILENAME}_response.csv\", index=False)"
   ]
  }
 ],
 "metadata": {
  "accelerator": "GPU",
  "colab": {
   "gpuType": "A100",
   "machine_shape": "hm",
   "provenance": []
  },
  "kernelspec": {
   "display_name": "Python 3",
   "language": "python",
   "name": "python3"
  },
  "language_info": {
   "codemirror_mode": {
    "name": "ipython",
    "version": 3
   },
   "file_extension": ".py",
   "mimetype": "text/x-python",
   "name": "python",
   "nbconvert_exporter": "python",
   "pygments_lexer": "ipython3",
   "version": "3.7.6"
  },
  "widgets": {
   "application/vnd.jupyter.widget-state+json": {
    "2c72a094b8fa47d59cdaec7c72c77c0a": {
     "model_module": "@jupyter-widgets/controls",
     "model_module_version": "1.5.0",
     "model_name": "DescriptionStyleModel",
     "state": {
      "_model_module": "@jupyter-widgets/controls",
      "_model_module_version": "1.5.0",
      "_model_name": "DescriptionStyleModel",
      "_view_count": null,
      "_view_module": "@jupyter-widgets/base",
      "_view_module_version": "1.2.0",
      "_view_name": "StyleView",
      "description_width": ""
     }
    },
    "3df229f2367244c8b6105d6c28862cd2": {
     "model_module": "@jupyter-widgets/base",
     "model_module_version": "1.2.0",
     "model_name": "LayoutModel",
     "state": {
      "_model_module": "@jupyter-widgets/base",
      "_model_module_version": "1.2.0",
      "_model_name": "LayoutModel",
      "_view_count": null,
      "_view_module": "@jupyter-widgets/base",
      "_view_module_version": "1.2.0",
      "_view_name": "LayoutView",
      "align_content": null,
      "align_items": null,
      "align_self": null,
      "border": null,
      "bottom": null,
      "display": null,
      "flex": null,
      "flex_flow": null,
      "grid_area": null,
      "grid_auto_columns": null,
      "grid_auto_flow": null,
      "grid_auto_rows": null,
      "grid_column": null,
      "grid_gap": null,
      "grid_row": null,
      "grid_template_areas": null,
      "grid_template_columns": null,
      "grid_template_rows": null,
      "height": null,
      "justify_content": null,
      "justify_items": null,
      "left": null,
      "margin": null,
      "max_height": null,
      "max_width": null,
      "min_height": null,
      "min_width": null,
      "object_fit": null,
      "object_position": null,
      "order": null,
      "overflow": null,
      "overflow_x": null,
      "overflow_y": null,
      "padding": null,
      "right": null,
      "top": null,
      "visibility": null,
      "width": null
     }
    },
    "3e2d5d2095d44f7dabdbef82b780e733": {
     "model_module": "@jupyter-widgets/base",
     "model_module_version": "1.2.0",
     "model_name": "LayoutModel",
     "state": {
      "_model_module": "@jupyter-widgets/base",
      "_model_module_version": "1.2.0",
      "_model_name": "LayoutModel",
      "_view_count": null,
      "_view_module": "@jupyter-widgets/base",
      "_view_module_version": "1.2.0",
      "_view_name": "LayoutView",
      "align_content": null,
      "align_items": null,
      "align_self": null,
      "border": null,
      "bottom": null,
      "display": null,
      "flex": null,
      "flex_flow": null,
      "grid_area": null,
      "grid_auto_columns": null,
      "grid_auto_flow": null,
      "grid_auto_rows": null,
      "grid_column": null,
      "grid_gap": null,
      "grid_row": null,
      "grid_template_areas": null,
      "grid_template_columns": null,
      "grid_template_rows": null,
      "height": null,
      "justify_content": null,
      "justify_items": null,
      "left": null,
      "margin": null,
      "max_height": null,
      "max_width": null,
      "min_height": null,
      "min_width": null,
      "object_fit": null,
      "object_position": null,
      "order": null,
      "overflow": null,
      "overflow_x": null,
      "overflow_y": null,
      "padding": null,
      "right": null,
      "top": null,
      "visibility": null,
      "width": null
     }
    },
    "4bc81ba1fbad44c2946d10a97ad9279a": {
     "model_module": "@jupyter-widgets/base",
     "model_module_version": "1.2.0",
     "model_name": "LayoutModel",
     "state": {
      "_model_module": "@jupyter-widgets/base",
      "_model_module_version": "1.2.0",
      "_model_name": "LayoutModel",
      "_view_count": null,
      "_view_module": "@jupyter-widgets/base",
      "_view_module_version": "1.2.0",
      "_view_name": "LayoutView",
      "align_content": null,
      "align_items": null,
      "align_self": null,
      "border": null,
      "bottom": null,
      "display": null,
      "flex": null,
      "flex_flow": null,
      "grid_area": null,
      "grid_auto_columns": null,
      "grid_auto_flow": null,
      "grid_auto_rows": null,
      "grid_column": null,
      "grid_gap": null,
      "grid_row": null,
      "grid_template_areas": null,
      "grid_template_columns": null,
      "grid_template_rows": null,
      "height": null,
      "justify_content": null,
      "justify_items": null,
      "left": null,
      "margin": null,
      "max_height": null,
      "max_width": null,
      "min_height": null,
      "min_width": null,
      "object_fit": null,
      "object_position": null,
      "order": null,
      "overflow": null,
      "overflow_x": null,
      "overflow_y": null,
      "padding": null,
      "right": null,
      "top": null,
      "visibility": null,
      "width": null
     }
    },
    "4d86b32693e94528b0c1250e3736523d": {
     "model_module": "@jupyter-widgets/controls",
     "model_module_version": "1.5.0",
     "model_name": "HTMLModel",
     "state": {
      "_dom_classes": [],
      "_model_module": "@jupyter-widgets/controls",
      "_model_module_version": "1.5.0",
      "_model_name": "HTMLModel",
      "_view_count": null,
      "_view_module": "@jupyter-widgets/controls",
      "_view_module_version": "1.5.0",
      "_view_name": "HTMLView",
      "description": "",
      "description_tooltip": null,
      "layout": "IPY_MODEL_3df229f2367244c8b6105d6c28862cd2",
      "placeholder": "​",
      "style": "IPY_MODEL_b5cc780445484bcfa477c4b4c3478e99",
      "value": " 2/2 [00:11&lt;00:00,  5.26s/it]"
     }
    },
    "6ca1e3be91624bb9a97ae5c04320faf4": {
     "model_module": "@jupyter-widgets/base",
     "model_module_version": "1.2.0",
     "model_name": "LayoutModel",
     "state": {
      "_model_module": "@jupyter-widgets/base",
      "_model_module_version": "1.2.0",
      "_model_name": "LayoutModel",
      "_view_count": null,
      "_view_module": "@jupyter-widgets/base",
      "_view_module_version": "1.2.0",
      "_view_name": "LayoutView",
      "align_content": null,
      "align_items": null,
      "align_self": null,
      "border": null,
      "bottom": null,
      "display": null,
      "flex": null,
      "flex_flow": null,
      "grid_area": null,
      "grid_auto_columns": null,
      "grid_auto_flow": null,
      "grid_auto_rows": null,
      "grid_column": null,
      "grid_gap": null,
      "grid_row": null,
      "grid_template_areas": null,
      "grid_template_columns": null,
      "grid_template_rows": null,
      "height": null,
      "justify_content": null,
      "justify_items": null,
      "left": null,
      "margin": null,
      "max_height": null,
      "max_width": null,
      "min_height": null,
      "min_width": null,
      "object_fit": null,
      "object_position": null,
      "order": null,
      "overflow": null,
      "overflow_x": null,
      "overflow_y": null,
      "padding": null,
      "right": null,
      "top": null,
      "visibility": null,
      "width": null
     }
    },
    "b5cc780445484bcfa477c4b4c3478e99": {
     "model_module": "@jupyter-widgets/controls",
     "model_module_version": "1.5.0",
     "model_name": "DescriptionStyleModel",
     "state": {
      "_model_module": "@jupyter-widgets/controls",
      "_model_module_version": "1.5.0",
      "_model_name": "DescriptionStyleModel",
      "_view_count": null,
      "_view_module": "@jupyter-widgets/base",
      "_view_module_version": "1.2.0",
      "_view_name": "StyleView",
      "description_width": ""
     }
    },
    "b99225fb71fe4550a1a26428b56f394e": {
     "model_module": "@jupyter-widgets/controls",
     "model_module_version": "1.5.0",
     "model_name": "HTMLModel",
     "state": {
      "_dom_classes": [],
      "_model_module": "@jupyter-widgets/controls",
      "_model_module_version": "1.5.0",
      "_model_name": "HTMLModel",
      "_view_count": null,
      "_view_module": "@jupyter-widgets/controls",
      "_view_module_version": "1.5.0",
      "_view_name": "HTMLView",
      "description": "",
      "description_tooltip": null,
      "layout": "IPY_MODEL_3e2d5d2095d44f7dabdbef82b780e733",
      "placeholder": "​",
      "style": "IPY_MODEL_2c72a094b8fa47d59cdaec7c72c77c0a",
      "value": "Loading checkpoint shards: 100%"
     }
    },
    "d0de50039a644b3aad62e28e8552aa23": {
     "model_module": "@jupyter-widgets/controls",
     "model_module_version": "1.5.0",
     "model_name": "HBoxModel",
     "state": {
      "_dom_classes": [],
      "_model_module": "@jupyter-widgets/controls",
      "_model_module_version": "1.5.0",
      "_model_name": "HBoxModel",
      "_view_count": null,
      "_view_module": "@jupyter-widgets/controls",
      "_view_module_version": "1.5.0",
      "_view_name": "HBoxView",
      "box_style": "",
      "children": [
       "IPY_MODEL_b99225fb71fe4550a1a26428b56f394e",
       "IPY_MODEL_f9557ed9330e433f960aed56f4211fa4",
       "IPY_MODEL_4d86b32693e94528b0c1250e3736523d"
      ],
      "layout": "IPY_MODEL_6ca1e3be91624bb9a97ae5c04320faf4"
     }
    },
    "d668b7c5949146068b6aedcefae3ff2f": {
     "model_module": "@jupyter-widgets/controls",
     "model_module_version": "1.5.0",
     "model_name": "ProgressStyleModel",
     "state": {
      "_model_module": "@jupyter-widgets/controls",
      "_model_module_version": "1.5.0",
      "_model_name": "ProgressStyleModel",
      "_view_count": null,
      "_view_module": "@jupyter-widgets/base",
      "_view_module_version": "1.2.0",
      "_view_name": "StyleView",
      "bar_color": null,
      "description_width": ""
     }
    },
    "f9557ed9330e433f960aed56f4211fa4": {
     "model_module": "@jupyter-widgets/controls",
     "model_module_version": "1.5.0",
     "model_name": "FloatProgressModel",
     "state": {
      "_dom_classes": [],
      "_model_module": "@jupyter-widgets/controls",
      "_model_module_version": "1.5.0",
      "_model_name": "FloatProgressModel",
      "_view_count": null,
      "_view_module": "@jupyter-widgets/controls",
      "_view_module_version": "1.5.0",
      "_view_name": "ProgressView",
      "bar_style": "success",
      "description": "",
      "description_tooltip": null,
      "layout": "IPY_MODEL_4bc81ba1fbad44c2946d10a97ad9279a",
      "max": 2,
      "min": 0,
      "orientation": "horizontal",
      "style": "IPY_MODEL_d668b7c5949146068b6aedcefae3ff2f",
      "value": 2
     }
    }
   }
  }
 },
 "nbformat": 4,
 "nbformat_minor": 5
}
