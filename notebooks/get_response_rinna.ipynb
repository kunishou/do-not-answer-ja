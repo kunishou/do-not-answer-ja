{
 "cells": [
  {
   "cell_type": "code",
   "execution_count": null,
   "metadata": {},
   "outputs": [],
   "source": [
    "!pip install transformers tokenizer sentencepiece accelerate bitsandbytes"
   ]
  },
  {
   "cell_type": "code",
   "execution_count": null,
   "metadata": {},
   "outputs": [],
   "source": [
    "import pandas as pd\n",
    "\n",
    "df = pd.read_json(\"dna_ja_1k.json\")\n",
    "\n",
    "df.head()"
   ]
  },
  {
   "cell_type": "code",
   "execution_count": null,
   "metadata": {},
   "outputs": [],
   "source": [
    "OUTPUT_FILENAME = \"rinna_4b_ppo\"\n",
    "MODEL_NAME = \"rinna/bilingual-gpt-neox-4b-instruction-ppo\" # 評価したいモデルによって変更"
   ]
  },
  {
   "cell_type": "code",
   "execution_count": null,
   "metadata": {},
   "outputs": [],
   "source": [
    "from transformers import AutoTokenizer, AutoModelForCausalLM\n",
    "import torch\n",
    "\n",
    "tokenizer = AutoTokenizer.from_pretrained(MODEL_NAME,\n",
    "                                          use_fast=False)\n",
    "\n",
    "model = AutoModelForCausalLM.from_pretrained(MODEL_NAME,\n",
    "                                            load_in_8bit=True,\n",
    "                                            torch_dtype=torch.float16,\n",
    "                                            device_map=\"auto\",\n",
    "                                            )"
   ]
  },
  {
   "cell_type": "code",
   "execution_count": null,
   "metadata": {},
   "outputs": [],
   "source": [
    "\n",
    "generated_texts = []  # 結果を保存するリスト\n",
    "\n",
    "for n in range(len(df)):\n",
    "# for n in range(5): # test\n",
    "    \n",
    "    if n%100 == 0:\n",
    "        print(n)\n",
    "        \n",
    "    # rinna prompt\n",
    "    prompt = f\"\"\"{df.loc[n, \"question\"]}\n",
    "システム: \"\"\"\n",
    "\n",
    "    # 推論の実行\n",
    "    token_ids = tokenizer.encode(prompt, add_special_tokens=False, return_tensors=\"pt\")\n",
    "    with torch.no_grad():\n",
    "        output_ids = model.generate(\n",
    "            token_ids.to(model.device),\n",
    "            max_new_tokens=1024,\n",
    "            do_sample=True,\n",
    "            top_k=10,\n",
    "            num_return_sequences=1,\n",
    "            no_repeat_ngram_size=3,\n",
    "            pad_token_id=tokenizer.pad_token_id,\n",
    "            bos_token_id=tokenizer.bos_token_id,\n",
    "            eos_token_id=tokenizer.eos_token_id\n",
    "        )\n",
    "    output = tokenizer.decode(output_ids.tolist()[0][token_ids.size(1):]).replace(\"</s>\", \"\")\n",
    "    \n",
    "    generated_texts.append(output)"
   ]
  },
  {
   "cell_type": "code",
   "execution_count": null,
   "metadata": {},
   "outputs": [],
   "source": [
    "df_result = pd.concat([df, pd.DataFrame(generated_texts, columns=[f\"{OUTPUT_FILENAME}_response\"])], axis=1)\n",
    "df_result.head(3)"
   ]
  },
  {
   "cell_type": "code",
   "execution_count": null,
   "metadata": {},
   "outputs": [],
   "source": [
    "df_result[[\"id\", \"question\", f\"{OUTPUT_FILENAME}_response\"]].to_csv(f\"{OUTPUT_FILENAME}_response.csv\", index=False)"
   ]
  }
 ],
 "metadata": {
  "kernelspec": {
   "display_name": "Python 3",
   "language": "python",
   "name": "python3"
  },
  "language_info": {
   "codemirror_mode": {
    "name": "ipython",
    "version": 3
   },
   "file_extension": ".py",
   "mimetype": "text/x-python",
   "name": "python",
   "nbconvert_exporter": "python",
   "pygments_lexer": "ipython3",
   "version": "3.7.6"
  }
 },
 "nbformat": 4,
 "nbformat_minor": 5
}
